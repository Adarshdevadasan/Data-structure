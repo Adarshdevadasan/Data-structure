{
 "cells": [
  {
   "cell_type": "code",
   "execution_count": 6,
   "id": "55c2281d",
   "metadata": {},
   "outputs": [
    {
     "name": "stdout",
     "output_type": "stream",
     "text": [
      "unsorted list is,\n",
      "[65, 18, 34, 59, 10, 4, 99]\n",
      "sorted array is,\n",
      "[65, 18, 34, 59, 10, 4, 99]\n"
     ]
    }
   ],
   "source": [
    "def bubblesort(elements):\n",
    "    for i in range(len(elements)-1,0,-1):\n",
    "        for a in range(i):\n",
    "            if elements[a]>elements[a+1]:\n",
    "                elements[a],elements[a+1],elements[a]\n",
    "elements=[65,18,34,59,10,4,99]\n",
    "print(\"unsorted list is,\")\n",
    "print(elements)\n",
    "bubblesort(elements)\n",
    "print(\"sorted array is,\")\n",
    "print(elements)"
   ]
  },
  {
   "cell_type": "code",
   "execution_count": null,
   "id": "ba169fdf",
   "metadata": {},
   "outputs": [],
   "source": [
    "# Python program for implementation of Insertion Sort\n",
    "\n",
    "# Function to do insertion sort\n",
    "def insertionSort(arr):\n",
    "\n",
    "\t# Traverse through 1 to len(arr)\n",
    "\tfor i in range(1, len(arr)):\n",
    "\n",
    "\t\tkey = arr[i]\n",
    "\n",
    "\t\t# Move elements of arr[0..i-1], that are\n",
    "\t\t# greater than key, to one position ahead\n",
    "\t\t# of their current position\n",
    "\t\tj = i-1\n",
    "\t\twhile j >=0 and key < arr[j] :\n",
    "\t\t\t\tarr[j+1] = arr[j]\n",
    "\t\t\t\tj -= 1\n",
    "\t\tarr[j+1] = key\n",
    "\n",
    "\n",
    "# Driver code to test above\n",
    "arr = [12, 11, 13, 5, 6]\n",
    "insertionSort(arr)\n",
    "print (\"Sorted array is:\")\n",
    "for i in range(len(arr)):\n",
    "\tprint (\"%d\" %arr[i])\n",
    "\n",
    "# This code is contributed by Mohit Kumra\n"
   ]
  },
  {
   "cell_type": "code",
   "execution_count": 7,
   "id": "8dbae506",
   "metadata": {},
   "outputs": [
    {
     "name": "stdout",
     "output_type": "stream",
     "text": [
      "sorted array is :\n",
      "2\n",
      "6\n",
      "8\n",
      "15\n",
      "17\n"
     ]
    }
   ],
   "source": [
    "def insertionsort(arr):\n",
    "    for i in range(1,len(arr)):\n",
    "        key=arr[i]\n",
    "        j=i-1\n",
    "        while j>=0 and key<arr[j]:\n",
    "            arr[j+1]=arr[j]\n",
    "            j-=1\n",
    "        arr[j+1]=key\n",
    "arr=[6,8,2,15,17]\n",
    "insertionsort(arr)\n",
    "print(\"sorted array is :\")\n",
    "for i in range(len(arr)):\n",
    "    print(\"%d\"%arr[i])"
   ]
  },
  {
   "cell_type": "code",
   "execution_count": 19,
   "id": "c3894327",
   "metadata": {},
   "outputs": [
    {
     "name": "stdout",
     "output_type": "stream",
     "text": [
      "40 Found at index 3\n"
     ]
    }
   ],
   "source": [
    "# Python program for binary search using recursion\n",
    "\n",
    "def BinarySearch(arr, low, high, key):  #user-defined function\n",
    "    if high >= low:  #check base case\n",
    "        mid = (high + low) // 2\n",
    "        if (arr[mid] == key):\n",
    "            return mid\n",
    "        elif (arr[mid] > key):\n",
    "            return BinarySearch(arr, low, mid - 1, key)\n",
    "        else:\n",
    "            return BinarySearch(arr, mid + 1, high, key)\n",
    "    else:\n",
    "        return -1\n",
    "\n",
    "arr = [ 10, 20, 30, 40, 50, 60, 70, 80, 90]  #array\n",
    "key = 40  #search key\n",
    "\n",
    "# calling function\n",
    "result = BinarySearch(arr, 0, len(arr)-1, key)\n",
    "\n",
    "# display result\n",
    "if result != -1:\n",
    "    print(key, \"Found at index\", str(result))\n",
    "else:\n",
    "    print(key, \"not Found\")"
   ]
  },
  {
   "cell_type": "code",
   "execution_count": 20,
   "id": "32bece6a",
   "metadata": {},
   "outputs": [
    {
     "name": "stdout",
     "output_type": "stream",
     "text": [
      "5 found at index 4\n"
     ]
    }
   ],
   "source": [
    "def binarysearch(arr,low,high,key):\n",
    "    if high>=low:\n",
    "        mid=(high+low)//2\n",
    "        if(arr[mid]==key):\n",
    "            return mid\n",
    "        elif(arr[mid]>key):\n",
    "            return binarysearch(arr,low,mid-1,key)\n",
    "        else:\n",
    "            return binarysearch(arr,mid+1,high,key)\n",
    "    else:\n",
    "            return-1\n",
    "arr=[1,2,3,4,5,6,7,8,9]\n",
    "key=5\n",
    "result=binarysearch(arr,0,len(arr)-1,key)\n",
    "if result!=1:\n",
    "    print(key,\"found at index\",str(result))\n",
    "else:\n",
    "    print(key,\"not found\")"
   ]
  },
  {
   "cell_type": "code",
   "execution_count": null,
   "id": "1e23fa8d",
   "metadata": {},
   "outputs": [],
   "source": []
  }
 ],
 "metadata": {
  "kernelspec": {
   "display_name": "Python 3 (ipykernel)",
   "language": "python",
   "name": "python3"
  },
  "language_info": {
   "codemirror_mode": {
    "name": "ipython",
    "version": 3
   },
   "file_extension": ".py",
   "mimetype": "text/x-python",
   "name": "python",
   "nbconvert_exporter": "python",
   "pygments_lexer": "ipython3",
   "version": "3.9.7"
  }
 },
 "nbformat": 4,
 "nbformat_minor": 5
}
