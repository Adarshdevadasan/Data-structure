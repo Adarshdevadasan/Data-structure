{
 "cells": [
  {
   "cell_type": "code",
   "execution_count": 25,
   "id": "656e4d27",
   "metadata": {},
   "outputs": [],
   "source": [
    "# A simple Python program to introduce a linked list\n",
    "\n",
    "# Node class\n",
    "class Node:\n",
    "\n",
    "\t# Function to initialise the node object\n",
    "\tdef __init__(self, data):\n",
    "\t\tself.data = data # Assign data\n",
    "\t\tself.next = None # Initialize next as null\n",
    "\n",
    "\n",
    "# Linked List class contains a Node object\n",
    "class LinkedList:\n",
    "\n",
    "\t# Function to initialize head\n",
    "\tdef __init__(self):\n",
    "\t\tself.head = None\n",
    "\n",
    "\n",
    "# Code execution starts here\n",
    "if __name__=='__main__':\n",
    "\n",
    "\t# Start with the empty list\n",
    "\tllist = LinkedList()b\n",
    "\n",
    "\tllist.head = Node(1)\n",
    "\tsecond = Node(2)\n",
    "\tthird = Node(3)\n",
    "\n",
    "\t'''\n",
    "\tThree nodes have been created.\n",
    "\tWe have references to these three blocks as head,\n",
    "\tsecond and third\n",
    "\n",
    "\tllist.head\t second\t\t\t third\n",
    "\t\t|\t\t\t |\t\t\t\t |\n",
    "\t\t|\t\t\t |\t\t\t\t |\n",
    "\t+----+------+\t +----+------+\t +----+------+\n",
    "\t| 1 | None |\t | 2 | None |\t | 3 | None |\n",
    "\t+----+------+\t +----+------+\t +----+------+\n",
    "\t'''\n",
    "\n",
    "\tllist.head.next = second; # Link first node with second\n",
    "\n",
    "\t'''\n",
    "\tNow next of first Node refers to second. So they\n",
    "\tboth are linked.\n",
    "\n",
    "\tllist.head\t second\t\t\t third\n",
    "\t\t|\t\t\t |\t\t\t\t |\n",
    "\t\t|\t\t\t |\t\t\t\t |\n",
    "\t+----+------+\t +----+------+\t +----+------+\n",
    "\t| 1 | o-------->| 2 | null |\t | 3 | null |\n",
    "\t+----+------+\t +----+------+\t +----+------+\n",
    "\t'''\n",
    "\n",
    "\tsecond.next = third; # Link second node with the third node\n",
    "\n",
    "\t'''\n",
    "\tNow next of second Node refers to third. So all three\n",
    "\tnodes are linked.\n",
    "\n",
    "\tllist.head\t second\t\t\t third\n",
    "\t\t|\t\t\t |\t\t\t\t |\n",
    "\t\t|\t\t\t |\t\t\t\t |\n",
    "\t+----+------+\t +----+------+\t +----+------+\n",
    "\t| 1 | o-------->| 2 | o-------->| 3 | null |\n",
    "\t+----+------+\t +----+------+\t +----+------+\n",
    "\t'''\n"
   ]
  },
  {
   "cell_type": "code",
   "execution_count": null,
   "id": "2f008908",
   "metadata": {},
   "outputs": [],
   "source": []
  },
  {
   "cell_type": "code",
   "execution_count": 33,
   "id": "a4c56310",
   "metadata": {},
   "outputs": [
    {
     "name": "stdout",
     "output_type": "stream",
     "text": [
      "<__main__.node object at 0x000002BDD39F7DF0>\n"
     ]
    }
   ],
   "source": [
    "class node:\n",
    "    def __init__(self,data):\n",
    "        self.data=data\n",
    "        self.next=None\n",
    "\n",
    "class linkedlist:\n",
    "    def __init__(self):\n",
    "        self.head=None\n",
    "    \n",
    "if __name__=='__main__':\n",
    "    llist=linkedlist()\n",
    "    \n",
    "    llist.head=node(1)\n",
    "    second=node(2)\n",
    "    third=(3)\n",
    "    llist.head.next=second;\n",
    "    second.next=third;\n",
    "    "
   ]
  },
  {
   "cell_type": "code",
   "execution_count": 28,
   "id": "4aa83600",
   "metadata": {},
   "outputs": [
    {
     "name": "stdout",
     "output_type": "stream",
     "text": [
      "1\n",
      "2\n",
      "3\n"
     ]
    }
   ],
   "source": [
    "# A simple Python program for traversal of a linked list\n",
    "\n",
    "# Node class\n",
    "class Node:\n",
    "\n",
    "\t# Function to initialise the node object\n",
    "\tdef __init__(self, data):\n",
    "\t\tself.data = data # Assign data\n",
    "\t\tself.next = None # Initialize next as null\n",
    "\n",
    "\n",
    "# Linked List class contains a Node object\n",
    "class LinkedList:\n",
    "\n",
    "\t# Function to initialize head\n",
    "\tdef __init__(self):\n",
    "\t\tself.head = None\n",
    "\n",
    "\t# This function prints contents of linked list\n",
    "\t# starting from head\n",
    "\tdef printList(self):\n",
    "\t\ttemp = self.head\n",
    "\t\twhile (temp):\n",
    "\t\t\tprint (temp.data)\n",
    "\t\t\ttemp = temp.next\n",
    "\n",
    "\n",
    "# Code execution starts here\n",
    "if __name__=='__main__':\n",
    "\n",
    "\t# Start with the empty list\n",
    "\tllist = LinkedList()\n",
    "\n",
    "\tllist.head = Node(1)\n",
    "\tsecond = Node(2)\n",
    "\tthird = Node(3)\n",
    "\n",
    "\tllist.head.next = second; # Link first node with second\n",
    "\tsecond.next = third; # Link second node with the third node\n",
    "\n",
    "\tllist.printList()\n"
   ]
  },
  {
   "cell_type": "code",
   "execution_count": null,
   "id": "ab0629d8",
   "metadata": {},
   "outputs": [],
   "source": []
  },
  {
   "cell_type": "code",
   "execution_count": 39,
   "id": "e1d2efa3",
   "metadata": {},
   "outputs": [
    {
     "name": "stdout",
     "output_type": "stream",
     "text": [
      "1\n",
      "2\n",
      "3\n"
     ]
    }
   ],
   "source": [
    "class node:\n",
    "    def __init__(self,data):\n",
    "        self.data=data\n",
    "        self.next=None\n",
    "\n",
    "class linkedlist:\n",
    "    def __init__(self):\n",
    "        self.head=None\n",
    "        \n",
    "    def printlist(self):\n",
    "        temp=self.head\n",
    "        while(temp):\n",
    "            print(temp.data)\n",
    "            temp=temp.next\n",
    "                \n",
    "if __name__=='__main__':\n",
    "    llist=linkedlist()\n",
    "    \n",
    "    llist.head=node(1)\n",
    "    second=node(2)\n",
    "    third=node(3)\n",
    "    \n",
    "    llist.head.next=second;\n",
    "    second.next=third;\n",
    "    llist.printlist()\n",
    "    "
   ]
  },
  {
   "cell_type": "code",
   "execution_count": 42,
   "id": "02c5d253",
   "metadata": {},
   "outputs": [
    {
     "name": "stdout",
     "output_type": "stream",
     "text": [
      "How many elements would you like to add? 4\n",
      "Enter data item: 1\n",
      "Enter data item: 2\n",
      "Enter data item: 3\n",
      "Enter data item: 4\n",
      "The linked list: 4 3 2 1 "
     ]
    }
   ],
   "source": [
    "class Node:\n",
    "    def __init__(self, data):\n",
    "       self.data = data\n",
    "       self.next = None\n",
    " \n",
    " \n",
    "class LinkedList:\n",
    "    def __init__(self):\n",
    "        self.head = None\n",
    " \n",
    "    def insert_at_beg(self, new_node):\n",
    "        if self.head is None:\n",
    "            self.head = new_node\n",
    "        else:\n",
    "            new_node.next = self.head\n",
    "            self.head = new_node\n",
    " \n",
    "    def display(self):\n",
    "        current = self.head\n",
    "        while current:\n",
    "            print(current.data, end = ' ')\n",
    "            current = current.next\n",
    " \n",
    " \n",
    "a_llist = LinkedList()\n",
    "n = int(input('How many elements would you like to add? '))\n",
    "for i in range(n):\n",
    "    data = int(input('Enter data item: '))\n",
    "    node = Node(data)\n",
    "    a_llist.insert_at_beg(node)\n",
    " \n",
    "print('The linked list: ', end = '')\n",
    "a_llist.display()"
   ]
  },
  {
   "cell_type": "code",
   "execution_count": 43,
   "id": "ee8e3420",
   "metadata": {},
   "outputs": [
    {
     "name": "stdout",
     "output_type": "stream",
     "text": [
      "how many elements do you want to add?5\n",
      "enter the items:1\n",
      "enter the items:2\n",
      "enter the items:3\n",
      "enter the items:4\n",
      "enter the items:5\n",
      "the linked list: 5 4 3 2 1 "
     ]
    }
   ],
   "source": [
    "class Node:\n",
    "    def __init__(self,data):\n",
    "        self.data=data\n",
    "        self.next=None\n",
    "        \n",
    "class linkedlist:\n",
    "    def __init__(self):\n",
    "        self.head=None\n",
    "        \n",
    "    def insert_at_beg(self,new_node):\n",
    "        if self.head is None:\n",
    "            self.head=new_node\n",
    "            \n",
    "        else:\n",
    "            new_node.next=self.head\n",
    "            self.head=new_node\n",
    "            \n",
    "    def display(self):\n",
    "        current=self.head\n",
    "        while current:\n",
    "            print(current.data,end=\" \")\n",
    "            current=current.next\n",
    "            \n",
    "a_list=linkedlist()\n",
    "A=int(input(\"how many elements do you want to add?\"))\n",
    "for i in range(A):\n",
    "    data=int(input(\"enter the items:\"))\n",
    "    node=Node(data)\n",
    "    a_list.insert_at_beg(node)\n",
    "print(\"the linked list:\",end=\" \")\n",
    "a_list.display()"
   ]
  },
  {
   "cell_type": "code",
   "execution_count": 71,
   "id": "068a3b88",
   "metadata": {},
   "outputs": [
    {
     "name": "stdout",
     "output_type": "stream",
     "text": [
      "Caught this error: ValueError('Represents a hidden bug, do not catch this')\n"
     ]
    }
   ],
   "source": [
    "def demo_bad_catch():\n",
    "    try:\n",
    "        raise ValueError('Represents a hidden bug, do not catch this')\n",
    "       \n",
    "    except ValueError as error:\n",
    "        print('Caught this error: ' + repr(error))\n",
    "demo_bad_catch()"
   ]
  },
  {
   "cell_type": "code",
   "execution_count": null,
   "id": "9f9b3628",
   "metadata": {},
   "outputs": [],
   "source": []
  }
 ],
 "metadata": {
  "kernelspec": {
   "display_name": "Python 3 (ipykernel)",
   "language": "python",
   "name": "python3"
  },
  "language_info": {
   "codemirror_mode": {
    "name": "ipython",
    "version": 3
   },
   "file_extension": ".py",
   "mimetype": "text/x-python",
   "name": "python",
   "nbconvert_exporter": "python",
   "pygments_lexer": "ipython3",
   "version": "3.9.7"
  }
 },
 "nbformat": 4,
 "nbformat_minor": 5
}
