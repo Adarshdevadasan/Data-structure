{
 "cells": [
  {
   "cell_type": "code",
   "execution_count": 1,
   "id": "3d7767b0",
   "metadata": {},
   "outputs": [
    {
     "name": "stdout",
     "output_type": "stream",
     "text": [
      "orginal array:array('i', [1, 3, 5, 7, 9])\n",
      "Reverse the order of items:\n",
      "array('i', [9, 7, 5, 3, 1])\n"
     ]
    }
   ],
   "source": [
    "from array import *\n",
    "array_num=array('i',[1,3,5,7,9])\n",
    "print(\"orginal array:\"+str(array_num))\n",
    "array_num.reverse()\n",
    "print(\"Reverse the order of items:\")\n",
    "print(str(array_num))"
   ]
  },
  {
   "cell_type": "code",
   "execution_count": 2,
   "id": "eb142d3b",
   "metadata": {},
   "outputs": [
    {
     "name": "stdout",
     "output_type": "stream",
     "text": [
      "12\n"
     ]
    }
   ],
   "source": [
    "arr=[90,48,53,12,46,71]\n",
    "mini=arr[0]\n",
    "for i in range(len(arr)):\n",
    "    if arr[i]<mini:\n",
    "        mini=arr[i]\n",
    "print(mini)"
   ]
  },
  {
   "cell_type": "code",
   "execution_count": 3,
   "id": "d37c3c91",
   "metadata": {},
   "outputs": [
    {
     "name": "stdout",
     "output_type": "stream",
     "text": [
      "100\n"
     ]
    }
   ],
   "source": [
    "arr=[100,45,62,75,88,12,1]\n",
    "maxi=arr[0]\n",
    "for i in range(len(arr)):\n",
    "    if arr[i]>maxi:\n",
    "        maxi=arr[i]\n",
    "print(maxi)"
   ]
  },
  {
   "cell_type": "code",
   "execution_count": 4,
   "id": "3439dd78",
   "metadata": {},
   "outputs": [
    {
     "name": "stdout",
     "output_type": "stream",
     "text": [
      "enter size of array:5\n",
      "enter element of array:4\n",
      "enter element of array:6\n",
      "enter element of array:3\n",
      "enter element of array:2\n",
      "enter element of array:5\n",
      "second largest element is 5\n"
     ]
    }
   ],
   "source": [
    "import array\n",
    "arr=[]\n",
    "n=int(input(\"enter size of array:\"))\n",
    "for A in range(n):\n",
    "    A=int(input(\"enter element of array:\"))\n",
    "    arr.append(A)\n",
    "sorted_array=sorted(array.array('i',arr))\n",
    "for i in range(len(arr)-1,0,-1):\n",
    "    if sorted_array[i]!=sorted_array[i-1]:\n",
    "        print(f\"second largest element is {sorted_array[i-1]}\")\n",
    "        break"
   ]
  },
  {
   "cell_type": "code",
   "execution_count": 16,
   "id": "152754fd",
   "metadata": {},
   "outputs": [
    {
     "name": "stdout",
     "output_type": "stream",
     "text": [
      "the sum of array elements = 280\n",
      "the average of array elements = 40.0\n"
     ]
    }
   ],
   "source": [
    "import numpy as np\n",
    "arr=np.array([10,20,30,40,50,60,70])\n",
    "total=0\n",
    "for i in range(len(arr)):\n",
    "    total=total+arr[i]\n",
    "avg=total/len(arr)\n",
    "print(\"the sum of array elements =\",total)\n",
    "print(\"the average of array elements =\",avg)"
   ]
  },
  {
   "cell_type": "code",
   "execution_count": 17,
   "id": "48f6ef11",
   "metadata": {},
   "outputs": [
    {
     "name": "stdout",
     "output_type": "stream",
     "text": [
      "number of elements present in an array:6\n"
     ]
    }
   ],
   "source": [
    "arr=[1,2,5,6,7,9]\n",
    "print(\"number of elements present in an array:\"+str(len(arr)))"
   ]
  },
  {
   "cell_type": "code",
   "execution_count": 18,
   "id": "a08805e4",
   "metadata": {},
   "outputs": [
    {
     "name": "stdout",
     "output_type": "stream",
     "text": [
      "[array([1, 7]), array([4, 9]), array([3, 6])]\n"
     ]
    }
   ],
   "source": [
    "import numpy as np\n",
    "arr=np.array([1,7,4,9,3,6])\n",
    "newarr=np.array_split(arr,3)\n",
    "print(newarr)"
   ]
  },
  {
   "cell_type": "code",
   "execution_count": 19,
   "id": "c2ec2c8c",
   "metadata": {},
   "outputs": [
    {
     "name": "stdout",
     "output_type": "stream",
     "text": [
      "7\n",
      "4\n",
      "8\n",
      "2\n",
      "9\n",
      "1\n",
      "6\n",
      "access individual elements\n",
      "7\n",
      "4\n",
      "8\n",
      "2\n"
     ]
    }
   ],
   "source": [
    "from array import *\n",
    "array_num=array(\"i\",[7,4,8,2,9,1,6])\n",
    "for i in array_num:\n",
    "    print(i)\n",
    "print(\"access individual elements\")\n",
    "print(array_num[0])\n",
    "print(array_num[1])\n",
    "print(array_num[2])\n",
    "print(array_num[3])"
   ]
  },
  {
   "cell_type": "code",
   "execution_count": 20,
   "id": "f170dd60",
   "metadata": {},
   "outputs": [
    {
     "name": "stdout",
     "output_type": "stream",
     "text": [
      "length of the array: 6\n"
     ]
    }
   ],
   "source": [
    "import array\n",
    "array_num=([\"i\",2,3,6,7,9])\n",
    "print(\"length of the array:\",len(array_num))"
   ]
  },
  {
   "cell_type": "code",
   "execution_count": 21,
   "id": "dcade68a",
   "metadata": {},
   "outputs": [
    {
     "name": "stdout",
     "output_type": "stream",
     "text": [
      "[1, 2, 3, 4, 5, 6, 7, 8]\n"
     ]
    },
    {
     "data": {
      "text/plain": [
       "list"
      ]
     },
     "execution_count": 21,
     "metadata": {},
     "output_type": "execute_result"
    }
   ],
   "source": [
    "import numpy as np\n",
    "my_array=np.array([1,2,3,4,5,6,7,8])\n",
    "my_list=my_array.tolist()\n",
    "print(my_list)\n",
    "type(my_list)"
   ]
  },
  {
   "cell_type": "code",
   "execution_count": 22,
   "id": "72896b8e",
   "metadata": {},
   "outputs": [
    {
     "name": "stdout",
     "output_type": "stream",
     "text": [
      "orginal array:array('i', [9, 8, 7, 6, 5, 4])\n",
      "reverse order of the items:array('i', [4, 5, 6, 7, 8, 9])\n"
     ]
    }
   ],
   "source": [
    "from array import *\n",
    "array_num=array(\"i\",[9,8,7,6,5,4])\n",
    "print(\"orginal array:\"+str(array_num))\n",
    "array_num.reverse()\n",
    "print(\"reverse order of the items:\"+str(array_num))"
   ]
  },
  {
   "cell_type": "code",
   "execution_count": 23,
   "id": "e88dc9b3",
   "metadata": {},
   "outputs": [
    {
     "name": "stdout",
     "output_type": "stream",
     "text": [
      "orginal array:array('i', [6, 7, 3, 8, 1])\n",
      "append 10 at the end of the array:\n",
      "New array:array('i', [6, 7, 3, 8, 1, 10])\n"
     ]
    }
   ],
   "source": [
    "from array import*\n",
    "array_num=array(\"i\",[6,7,3,8,1])\n",
    "print(\"orginal array:\"+str(array_num))\n",
    "print(\"append 10 at the end of the array:\")\n",
    "array_num.append(10)\n",
    "print(\"New array:\"+str(array_num))"
   ]
  },
  {
   "cell_type": "code",
   "execution_count": 24,
   "id": "964399be",
   "metadata": {},
   "outputs": [
    {
     "name": "stdout",
     "output_type": "stream",
     "text": [
      "array('i', [1, 2, 3, 4, 5])\n"
     ]
    }
   ],
   "source": [
    "import array as arr\n",
    "number=arr.array(\"i\",[1,2,3,4,4,5])\n",
    "del number[3]\n",
    "print(number)"
   ]
  },
  {
   "cell_type": "code",
   "execution_count": 25,
   "id": "ccff830e",
   "metadata": {},
   "outputs": [
    {
     "name": "stdout",
     "output_type": "stream",
     "text": [
      "array('i')\n",
      "array('i', [1, 3, 4, 2, 5])\n"
     ]
    }
   ],
   "source": [
    "import array as arr\n",
    "numbers_list=[1,3,4,2,5]\n",
    "numbers_array=arr.array(\"i\",numbers_list)\n",
    "print(numbers_array[2:-4])\n",
    "print(numbers_array[:])"
   ]
  },
  {
   "cell_type": "code",
   "execution_count": 15,
   "id": "4ca403ea",
   "metadata": {},
   "outputs": [
    {
     "name": "stdout",
     "output_type": "stream",
     "text": [
      "2 4 6 8 1 3 5 7 "
     ]
    }
   ],
   "source": [
    "import numpy as np\n",
    "arr=np.array([1,2,3,4,5,6,7,8])\n",
    "for i in range(1,len(arr),2):\n",
    "   \n",
    "    print(arr[i],end=\" \")\n",
    "    \n",
    "for i in range(0,len(arr),2):\n",
    "    print(arr[i],end=\" \")"
   ]
  }
 ],
 "metadata": {
  "kernelspec": {
   "display_name": "Python 3 (ipykernel)",
   "language": "python",
   "name": "python3"
  },
  "language_info": {
   "codemirror_mode": {
    "name": "ipython",
    "version": 3
   },
   "file_extension": ".py",
   "mimetype": "text/x-python",
   "name": "python",
   "nbconvert_exporter": "python",
   "pygments_lexer": "ipython3",
   "version": "3.9.7"
  }
 },
 "nbformat": 4,
 "nbformat_minor": 5
}
