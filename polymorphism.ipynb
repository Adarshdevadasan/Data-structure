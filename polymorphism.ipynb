{
 "cells": [
  {
   "cell_type": "markdown",
   "id": "063801a8",
   "metadata": {},
   "source": [
    "# polymorphism"
   ]
  },
  {
   "cell_type": "code",
   "execution_count": 3,
   "id": "76f28077",
   "metadata": {},
   "outputs": [
    {
     "name": "stdout",
     "output_type": "stream",
     "text": [
      "parrot can fly\n",
      "penguin can't fly\n"
     ]
    }
   ],
   "source": [
    "class parrot:\n",
    "    def fly(self):\n",
    "        print(\"parrot can fly\")\n",
    "    def swim(self):\n",
    "        print(\"parrot can't swim\")\n",
    "        \n",
    "class penguin:\n",
    "    def fly(self):\n",
    "        print(\"penguin can't fly\")\n",
    "    def swim(self):\n",
    "        print(\"penguin can swim\")\n",
    "        \n",
    "#common interface\n",
    "def flying_test(bird):\n",
    "    bird.fly()\n",
    "    \n",
    "#instantiate objects\n",
    "blue=parrot()\n",
    "peggy=penguin()\n",
    "\n",
    "#passing the object\n",
    "flying_test(blue)\n",
    "flying_test(peggy)\n",
    "    \n"
   ]
  },
  {
   "cell_type": "code",
   "execution_count": 9,
   "id": "d77b5cf9",
   "metadata": {},
   "outputs": [
    {
     "name": "stdout",
     "output_type": "stream",
     "text": [
      "lion can't swim\n",
      "whale can swim\n"
     ]
    }
   ],
   "source": [
    "class lion:\n",
    "    def hunt(self):\n",
    "        print(\"lion can hunt\")\n",
    "    def swim(self):\n",
    "        print(\"lion can't swim\")\n",
    "class whale:\n",
    "    def hunt(self):\n",
    "        print(\"whale can't hunt\")\n",
    "    def swim(self):\n",
    "        print(\"whale can swim\")\n",
    "        \n",
    "def hunting_test(animal):\n",
    "    animal.swim()\n",
    "chottu=lion()\n",
    "mottu=whale()\n",
    "\n",
    "hunting_test(chottu)\n",
    "hunting_test(mottu)"
   ]
  },
  {
   "cell_type": "code",
   "execution_count": 11,
   "id": "6fd421e5",
   "metadata": {},
   "outputs": [
    {
     "name": "stdout",
     "output_type": "stream",
     "text": [
      "10\n",
      "<function person.greet at 0x000001E5467E7A60>\n",
      "this is a person class\n"
     ]
    }
   ],
   "source": [
    "class person:\n",
    "    \"this is a person class\"\n",
    "    age=10\n",
    "    def greet(self):\n",
    "        print('hello')\n",
    "print(person.age)\n",
    "print(person.greet)\n",
    "print(person.__doc__)"
   ]
  },
  {
   "cell_type": "code",
   "execution_count": 13,
   "id": "ca6e29e5",
   "metadata": {},
   "outputs": [
    {
     "name": "stdout",
     "output_type": "stream",
     "text": [
      "<function person.greet at 0x000001E5467E7CA0>\n",
      "<bound method person.greet of <__main__.person object at 0x000001E5467403A0>>\n",
      "hello\n"
     ]
    }
   ],
   "source": [
    "class person:\n",
    "    \"this is a person class\"\n",
    "    age=10\n",
    "    def greet(self):\n",
    "        print('hello')\n",
    "    harry=person()\n",
    "    print(person.greet)\n",
    "    print(harry.greet)\n",
    "    harry.greet()"
   ]
  }
 ],
 "metadata": {
  "kernelspec": {
   "display_name": "Python 3 (ipykernel)",
   "language": "python",
   "name": "python3"
  },
  "language_info": {
   "codemirror_mode": {
    "name": "ipython",
    "version": 3
   },
   "file_extension": ".py",
   "mimetype": "text/x-python",
   "name": "python",
   "nbconvert_exporter": "python",
   "pygments_lexer": "ipython3",
   "version": "3.9.7"
  }
 },
 "nbformat": 4,
 "nbformat_minor": 5
}
